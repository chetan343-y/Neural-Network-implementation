{
 "cells": [
  {
   "cell_type": "code",
   "execution_count": 103,
   "metadata": {},
   "outputs": [],
   "source": [
    "# data set\n",
    "# A\n",
    "a=[0,0,1,1,0,0,\n",
    "   0,1,0,0,1,0,\n",
    "   1,1,1,1,1,1,\n",
    "   1,0,0,0,0,1,\n",
    "   1,0,0,0,0,1]\n",
    "\n",
    "# B\n",
    "b=[0,1,1,1,1,0,\n",
    "   0,1,0,0,1,0,\n",
    "   1,1,1,1,1,0,\n",
    "   0,1,0,0,1,0,\n",
    "   0,1,1,1,1,0]\n",
    "\n",
    "# C\n",
    "c=[0,1,1,1,1,0,\n",
    "   0,1,0,0,0,0,\n",
    "   0,1,0,0,0,0,\n",
    "   0,1,0,0,0,0,\n",
    "   0,1,1,1,1,0]"
   ]
  },
  {
   "cell_type": "code",
   "execution_count": 104,
   "metadata": {},
   "outputs": [],
   "source": [
    "# create Labels\n",
    "y=[[1,0,0],\n",
    "   [0,1,0],\n",
    "   [0,0,1]]"
   ]
  },
  {
   "cell_type": "code",
   "execution_count": 105,
   "metadata": {},
   "outputs": [],
   "source": [
    "import numpy as np\n",
    "import matplotlib.pyplot as plt"
   ]
  },
  {
   "cell_type": "code",
   "execution_count": 106,
   "metadata": {},
   "outputs": [
    {
     "data": {
      "image/png": "[encoded data removed]",
      "text/plain": [
       "<Figure size 640x480 with 1 Axes>"
      ]
     },
     "metadata": {},
     "output_type": "display_data"
    }
   ],
   "source": [
    "# Visualize the data \n",
    "plt.imshow(np.array(a).reshape(5,6))\n",
    "plt.show()"
   ]
  },
  {
   "cell_type": "code",
   "execution_count": 107,
   "metadata": {},
   "outputs": [
    {
     "name": "stdout",
     "output_type": "stream",
     "text": [
      "[array([[0, 0, 1, 1, 0, 0, 0, 1, 0, 0, 1, 0, 1, 1, 1, 1, 1, 1, 1, 0, 0, 0,\n",
      "        0, 1, 1, 0, 0, 0, 0, 1]]), array([[0, 1, 1, 1, 1, 0, 0, 1, 0, 0, 1, 0, 1, 1, 1, 1, 1, 0, 0, 1, 0, 0,\n",
      "        1, 0, 0, 1, 1, 1, 1, 0]]), array([[0, 1, 1, 1, 1, 0, 0, 1, 0, 0, 0, 0, 0, 1, 0, 0, 0, 0, 0, 1, 0, 0,\n",
      "        0, 0, 0, 1, 1, 1, 1, 0]])] \n",
      "\n",
      " [[1 0 0]\n",
      " [0 1 0]\n",
      " [0 0 1]]\n"
     ]
    }
   ],
   "source": [
    "# convert data and labels into numpy array\n",
    "x=[np.array(a).reshape(1,30),np.array(b).reshape(1,30),np.array(c).reshape(1,30)]\n",
    "y=np.array(y)\n",
    "print(x,'\\n\\n',y)"
   ]
  },
  {
   "cell_type": "code",
   "execution_count": 108,
   "metadata": {},
   "outputs": [],
   "source": [
    "# input (1,30)\n",
    "# hidden (1,5)\n",
    "# output (3,3)"
   ]
  },
  {
   "cell_type": "code",
   "execution_count": 109,
   "metadata": {},
   "outputs": [],
   "source": [
    "# activation Function\n",
    "def signoid(x):\n",
    "    return  (1/(1+np.exp(-x)))"
   ]
  },
  {
   "cell_type": "code",
   "execution_count": 110,
   "metadata": {},
   "outputs": [],
   "source": [
    "# creating feed forward NN\n",
    "def f_forward(x,w1,w2):\n",
    "    # hidden layer\n",
    "    z1=x.dot(w1)\n",
    "    a1=signoid(z1)\n",
    "\n",
    "    # output layer\n",
    "    z2=a1.dot(w2)\n",
    "    a2=signoid(z2)\n",
    "    return(a2)"
   ]
  },
  {
   "cell_type": "code",
   "execution_count": 111,
   "metadata": {},
   "outputs": [],
   "source": [
    "# intialize the weights \n",
    "# def generate_wt(x,y):\n",
    "#     I=[]\n",
    "#     for i in range(x*y):\n",
    "#         I.append(np.random.random())\n",
    "#     return(np.array(I).reshape(x,y))\n",
    "def generate_wt(x, y):\n",
    "    return np.random.randn(x, y) * np.sqrt(1. / x)  # Xavier initialization\n"
   ]
  },
  {
   "cell_type": "code",
   "execution_count": 112,
   "metadata": {},
   "outputs": [],
   "source": [
    "# for loss we will use mean square methods\n",
    "def loss(out,Y):\n",
    "    s=(np.square(out-Y))\n",
    "    s=np.sum(s)/len(y)\n",
    "    return(s)\n",
    "def loss1(predicted, actual):\n",
    "    return (predicted - actual) ** 2  # Simple MSE loss\n"
   ]
  },
  {
   "cell_type": "code",
   "execution_count": 113,
   "metadata": {},
   "outputs": [],
   "source": [
    "# # back propagation of error\n",
    "# def back_prop(x,y,w1,w2,alpha):\n",
    "\n",
    "#     # hiden\n",
    "#     z1=x.dot(w1)\n",
    "#     a1=signoid(z1)\n",
    "\n",
    "#     # output layer\n",
    "#     z2=a1.dot(w2)\n",
    "#     a2=signoid(z2)\n",
    "\n",
    "#     d2=(a2-y)\n",
    "#     d1=np.multiply((w2.dot((d2.transpose()))),(np.multiply(a1,1-a1)))\n",
    "\n",
    "#     # gradient \n",
    "#     w1_adj=x.transpose().dot(d1)\n",
    "#     w2_adj=a1.transpose().dot(d2)\n",
    "    \n",
    "#     w1=w1-(alpha*(w1_adj))\n",
    "#     w2=w2-(alpha*(w2_adj))\n",
    "\n",
    "#     return (w1,w2)\n",
    "import numpy as np\n",
    "\n",
    "# back propagation of error\n",
    "def back_prop(x, y, w1, w2, alpha):\n",
    "\n",
    "    # Hidden layer\n",
    "    z1 = x.dot(w1)  # z1 shape: (n_samples, n_hidden)\n",
    "    a1 = signoid(z1)  # a1 shape: (n_samples, n_hidden)\n",
    "\n",
    "    # Output layer\n",
    "    z2 = a1.dot(w2)  # z2 shape: (n_samples, n_output)\n",
    "    a2 = signoid(z2)  # a2 shape: (n_samples, n_output)\n",
    "\n",
    "    # Output layer error\n",
    "    d2 = a2 - y  # d2 shape: (n_samples, n_output)\n",
    "\n",
    "    # Hidden layer error\n",
    "    d1 = np.multiply(d2.dot(w2.T), np.multiply(a1, 1 - a1))  # d1 shape: (n_samples, n_hidden)\n",
    "\n",
    "    # Gradient calculations\n",
    "    w1_adj = x.T.dot(d1)  # w1_adj shape: (n_features, n_hidden)\n",
    "    w2_adj = a1.T.dot(d2)  # w2_adj shape: (n_hidden, n_output)\n",
    "\n",
    "    # Update weights\n",
    "    w1 = w1 - (alpha * w1_adj)\n",
    "    w2 = w2 - (alpha * w2_adj)\n",
    "\n",
    "    return w1, w2\n"
   ]
  },
  {
   "cell_type": "code",
   "execution_count": 114,
   "metadata": {},
   "outputs": [],
   "source": [
    "# train \n",
    "def train(X,Y,w1,w2,alpha=0.01,epoch=10):\n",
    "    acc=[]\n",
    "    losses=[]\n",
    "    for j in range(epoch):\n",
    "        l=[]\n",
    "        for i in range(len(x)):\n",
    "            out=f_forward(x[i],w1,w2)\n",
    "            l.append((loss(out,Y[i])))\n",
    "            w1,w2=back_prop(x[i],y[i],w1,w2,alpha)\n",
    "        print(\"Epochs: \",j+1,\"acc:\",(1-(sum(l)/len(x)))*100)\n",
    "        acc.append((1-(sum(l)/len(x)))*100)\n",
    "        losses.append(sum(l)/len(x))\n",
    "    return(acc,losses,w1,w2)"
   ]
  },
  {
   "cell_type": "code",
   "execution_count": 115,
   "metadata": {},
   "outputs": [],
   "source": [
    "# # prediction of values\n",
    "# def prediict(x,w1,w2):\n",
    "#     Out=f_forward(x,w1,w2)\n",
    "#     maxm=0\n",
    "#     k=0\n",
    "#     for i in range(len(Out[0])):\n",
    "#         if(max<Out[0][i]):\n",
    "#             maxm=Out[0][i]\n",
    "#             k=i\n",
    "#     if(k==0):\n",
    "#         print(\"image is of letter A\")\n",
    "#     elif(k==1):\n",
    "#         print(\"Image is of letter B\")\n",
    "#     else:\n",
    "#         print(\"Image is of letter C\")\n",
    "#     plt.imshow(x.reshape(5,6))\n",
    "#     plt.show()\n",
    "def predict(x, w1, w2):\n",
    "    Out = f_forward(x, w1, w2)  # Forward pass\n",
    "    maxm = Out[0][0]  # Start with the first output value\n",
    "    k = 0  # Index of the maximum value\n",
    "\n",
    "    # Find the index of the maximum value in the output\n",
    "    for i in range(len(Out[0])):\n",
    "        if maxm < Out[0][i]:  # Compare current max with new element\n",
    "            maxm = Out[0][i]  # Update max value\n",
    "            k = i  # Store index of max value\n",
    "\n",
    "    # Print the predicted class based on the index\n",
    "    if k == 0:\n",
    "        print(\"Image is of letter A\")\n",
    "    elif k == 1:\n",
    "        print(\"Image is of letter B\")\n",
    "    elif k == 2:\n",
    "        print(\"Image is of letter C\")\n",
    "    else:\n",
    "        print(\"Unknown letter\")\n",
    "\n",
    "    # Display the image\n",
    "    plt.imshow(x.reshape(5, 6), cmap='gray')  # Adjust dimensions as needed\n",
    "    plt.show()\n"
   ]
  },
  {
   "cell_type": "code",
   "execution_count": 116,
   "metadata": {},
   "outputs": [
    {
     "name": "stdout",
     "output_type": "stream",
     "text": [
      "[[-4.87292287e-02  3.30687708e-03 -2.25957421e-01  1.54262447e-01\n",
      "   3.76369620e-02  5.43333695e-02  9.01007093e-02 -1.90255170e-02\n",
      "  -7.72614332e-02  4.65318816e-02]\n",
      " [-1.32103413e-02 -5.91645530e-02  1.35621726e-01  7.60376605e-02\n",
      "   2.54174320e-02 -1.44226012e-01 -1.30048274e-01 -6.22244558e-02\n",
      "  -3.69723577e-02 -8.48284918e-02]\n",
      " [-3.08470621e-01 -7.28355626e-02 -5.14786806e-02 -6.38479263e-02\n",
      "  -7.84394056e-02  2.87194857e-01  7.87476723e-02  9.09422083e-02\n",
      "  -2.96214162e-01  2.33594863e-01]\n",
      " [-1.31597508e-03 -4.31962378e-01  3.73571119e-01 -5.07371681e-02\n",
      "  -1.35081525e-01  1.14962296e-01 -1.05287747e-01  2.44387543e-01\n",
      "   2.35069980e-01 -4.49087534e-02]\n",
      " [ 1.62662254e-01  4.62469773e-02 -5.75039135e-02 -1.20928468e-01\n",
      "   3.37997318e-01 -3.69884657e-02 -4.50006487e-01  1.88939922e-01\n",
      "  -8.42115788e-02 -6.26244030e-02]\n",
      " [ 4.90296593e-03  2.79995628e-01  2.98922821e-01  4.61304781e-02\n",
      "  -3.03604421e-02 -1.15270718e-01  2.21030486e-01  3.03806572e-02\n",
      "   1.53094111e-01  3.38918884e-01]\n",
      " [ 5.22944944e-01  3.19546102e-01 -1.93435867e-01 -2.59236261e-02\n",
      "   3.57107613e-01  1.09827593e-01 -2.64885880e-01  2.27741796e-01\n",
      "  -2.42350833e-01 -2.16872742e-01]\n",
      " [ 3.74824329e-01  2.11849032e-01  9.48274911e-02 -1.09623627e-01\n",
      "   2.86122480e-01 -1.61852156e-01 -8.25536739e-02 -2.20466006e-01\n",
      "  -7.25870983e-02  5.16653520e-02]\n",
      " [-1.00173570e-02  2.14474572e-01 -2.34218151e-01 -2.79865658e-01\n",
      "  -1.24511571e-01 -2.70679901e-03  1.48585839e-01  7.73744733e-02\n",
      "   4.35846355e-02  1.44861572e-01]\n",
      " [-6.00336625e-02  2.61655026e-01 -1.51579946e-01  2.83044699e-01\n",
      "   2.63584497e-01  1.61392681e-01  8.37869457e-02  7.87930404e-02\n",
      "   9.52583225e-02 -3.47181022e-02]\n",
      " [-1.25032944e-01 -5.60558396e-02  6.09500853e-03  2.86303893e-02\n",
      "  -5.73581022e-02  5.47413607e-02 -2.97813182e-01  7.38673980e-02\n",
      "  -8.97005514e-02  2.07414777e-01]\n",
      " [-1.65653194e-01  2.94521308e-01 -3.95185962e-01  2.98299522e-01\n",
      "   2.04687246e-01  9.32760962e-02  4.80419586e-02 -3.70662040e-01\n",
      "  -2.23278835e-02  1.63497688e-01]\n",
      " [-2.08977106e-01 -2.76734726e-01 -1.88403755e-01 -3.66731678e-02\n",
      "   3.51050111e-01  1.27171581e-01 -1.24898229e-02 -3.18244632e-02\n",
      "  -1.76807170e-01  1.04124537e-02]\n",
      " [-4.14170608e-01  5.52350735e-02 -1.06335277e-01  1.49233999e-01\n",
      "   2.84952434e-02  2.68603364e-01  2.53968766e-01  1.73075480e-01\n",
      "   2.94721800e-01 -8.53411340e-02]\n",
      " [ 3.16498738e-01 -3.73872492e-02 -1.28612039e-01  9.75949876e-02\n",
      "  -2.57304617e-01 -1.82568768e-01 -6.76530204e-03 -8.20959693e-02\n",
      "  -1.50551034e-01  1.77407612e-01]\n",
      " [ 3.23116441e-01 -1.55258163e-01  4.27953500e-01  1.05730606e-01\n",
      "  -1.02183313e-01 -6.48266160e-02  4.12140970e-02 -1.79581260e-01\n",
      "  -1.70779938e-02 -4.94177887e-03]\n",
      " [ 2.93086343e-02  7.15176643e-02  2.49006623e-01 -4.79597558e-01\n",
      "  -4.77548436e-02 -2.05193868e-02  6.93253296e-02 -5.34393247e-02\n",
      "   2.81261513e-02  6.55726565e-02]\n",
      " [-7.67842837e-02 -3.73839717e-02 -1.27217873e-01 -1.15631555e-01\n",
      "   6.82508781e-03 -6.01860410e-02 -1.29839130e-01  4.44067286e-02\n",
      "   9.37253660e-02 -3.58731232e-01]\n",
      " [-4.35759461e-01  2.00722188e-01 -6.19480517e-02  2.78085138e-02\n",
      "  -8.47810891e-02 -2.94436451e-02 -2.20397964e-01 -1.68232036e-01\n",
      "  -9.29930740e-02  1.54830620e-01]\n",
      " [ 3.54496684e-01  6.07525812e-02  2.18939448e-01 -2.90908986e-01\n",
      "   4.25435891e-01 -8.94223112e-02  1.86443241e-01  1.80915572e-01\n",
      "   1.03902534e-01 -8.06263433e-02]\n",
      " [-9.50783245e-02 -2.91796645e-02  2.61998969e-01 -2.68701459e-01\n",
      "  -2.84614790e-01  2.41654406e-01  3.48534606e-01 -2.20999541e-01\n",
      "   1.40670759e-01 -1.89513338e-01]\n",
      " [ 3.34085194e-01 -2.82837611e-01 -1.69323418e-01 -5.02568354e-02\n",
      "   1.10958173e-01 -8.16328190e-02  1.61705013e-01 -6.46902120e-02\n",
      "  -8.66686184e-02 -1.09483622e-01]\n",
      " [-1.28346373e-01  4.02010780e-01  2.95602748e-01  7.13614437e-02\n",
      "  -3.21620072e-01 -7.30525672e-02 -6.90715779e-02 -1.26718610e-02\n",
      "   5.05602784e-02  1.96905359e-01]\n",
      " [-3.83029982e-01 -8.61684520e-02  1.50942071e-01 -2.48839008e-01\n",
      "   2.36494233e-01 -1.08664710e-01  1.39660645e-01  1.25278507e-01\n",
      "  -3.62303238e-01 -5.60748645e-02]\n",
      " [ 2.30469930e-01 -2.30488264e-01 -3.33095571e-01 -1.00704379e-01\n",
      "   1.73015268e-01 -2.00207117e-01  4.96350256e-02  3.01752950e-01\n",
      "  -3.62948867e-01  4.31123938e-02]\n",
      " [-1.53754618e-01 -4.72649568e-02  9.72177519e-02  9.36431891e-02\n",
      "  -2.89408068e-01 -1.34897620e-01 -8.57772366e-02 -4.06747639e-02\n",
      "  -5.14121522e-02  1.97533700e-01]\n",
      " [ 7.36577660e-02  4.40569730e-02 -1.12289577e-01  4.90005334e-02\n",
      "  -1.75293995e-01  2.42552393e-01 -2.53298875e-04 -1.19116322e-01\n",
      "  -2.80688557e-01  1.62241677e-01]\n",
      " [-1.05774478e-01 -8.29875019e-02  2.08358227e-02  2.39300220e-01\n",
      "   2.34062874e-01 -3.46779984e-02  9.25914054e-02  1.10088621e-01\n",
      "  -8.10570855e-02 -6.07781108e-01]\n",
      " [-1.11370086e-01  4.15182243e-01  1.47806669e-01  3.54439035e-01\n",
      "  -4.01802415e-01  1.11977670e-01  1.85932583e-01  3.55125954e-01\n",
      "  -1.21720840e-01 -4.42328312e-02]\n",
      " [-2.03275825e-02 -4.17034093e-01 -6.65367615e-02 -1.22543091e-01\n",
      "   3.66435652e-01  3.70037395e-03 -7.93408184e-02 -3.34846792e-01\n",
      "  -7.43084797e-02 -2.30900332e-02]]\n",
      "[[ 0.33550135  0.33116333 -0.57587918]\n",
      " [ 0.51202188  0.1465029   0.31368879]\n",
      " [ 0.26273473 -0.23837523 -0.3742317 ]\n",
      " [-0.5710826   0.30787939 -0.58872058]\n",
      " [-0.16186585 -0.19435625 -0.2890173 ]\n",
      " [-0.10202181  0.20132633  0.72141721]\n",
      " [-0.25585108  0.19127946 -0.00425611]\n",
      " [ 0.54613899 -0.03698049 -0.18331053]\n",
      " [-0.38503038 -0.33676555 -0.53198235]\n",
      " [ 0.29367087 -0.10771492  0.32837231]]\n"
     ]
    }
   ],
   "source": [
    "w1=generate_wt(30,10)\n",
    "w2=generate_wt(10,3)\n",
    "print(w1)\n",
    "print(w2)"
   ]
  },
  {
   "cell_type": "code",
   "execution_count": 117,
   "metadata": {},
   "outputs": [
    {
     "name": "stdout",
     "output_type": "stream",
     "text": [
      "Epochs:  1 acc: 72.27518284553929\n",
      "Epochs:  2 acc: 74.33032974022258\n",
      "Epochs:  3 acc: 75.7274591817061\n",
      "Epochs:  4 acc: 76.71326056462068\n",
      "Epochs:  5 acc: 77.4576456864836\n",
      "Epochs:  6 acc: 78.06596888445536\n",
      "Epochs:  7 acc: 78.60083833414313\n",
      "Epochs:  8 acc: 79.09884373817965\n",
      "Epochs:  9 acc: 79.58117114340982\n",
      "Epochs:  10 acc: 80.05988733468541\n",
      "Epochs:  11 acc: 80.54156849464775\n",
      "Epochs:  12 acc: 81.02938896998924\n",
      "Epochs:  13 acc: 81.52433950977752\n",
      "Epochs:  14 acc: 82.0259613518871\n",
      "Epochs:  15 acc: 82.53281575610445\n",
      "Epochs:  16 acc: 83.04281190094922\n",
      "Epochs:  17 acc: 83.55345943463135\n",
      "Epochs:  18 acc: 84.06207827416081\n",
      "Epochs:  19 acc: 84.56597836207945\n",
      "Epochs:  20 acc: 85.06261122892337\n",
      "Epochs:  21 acc: 85.54969058518815\n",
      "Epochs:  22 acc: 86.02527874323692\n",
      "Epochs:  23 acc: 86.4878376857493\n",
      "Epochs:  24 acc: 86.93624654395195\n",
      "Epochs:  25 acc: 87.36978999947561\n",
      "Epochs:  26 acc: 87.78812401689407\n",
      "Epochs:  27 acc: 88.19122612266457\n",
      "Epochs:  28 acc: 88.579337260619\n",
      "Epochs:  29 acc: 88.95290133897053\n",
      "Epochs:  30 acc: 89.31250725490045\n",
      "Epochs:  31 acc: 89.65883672514691\n",
      "Epochs:  32 acc: 89.99261987754585\n",
      "Epochs:  33 acc: 90.31459940026473\n",
      "Epochs:  34 acc: 90.62550316126273\n",
      "Epochs:  35 acc: 90.92602460494415\n",
      "Epochs:  36 acc: 91.21680987624507\n",
      "Epochs:  37 acc: 91.4984504671351\n",
      "Epochs:  38 acc: 91.77148017422759\n",
      "Epochs:  39 acc: 92.03637524927693\n",
      "Epochs:  40 acc: 92.29355677453958\n",
      "Epochs:  41 acc: 92.54339446922482\n",
      "Epochs:  42 acc: 92.7862113078375\n",
      "Epochs:  43 acc: 93.02228849084838\n",
      "Epochs:  44 acc: 93.25187044451644\n",
      "Epochs:  45 acc: 93.4751696368198\n",
      "Epochs:  46 acc: 93.69237108093432\n",
      "Epochs:  47 acc: 93.90363645931977\n",
      "Epochs:  48 acc: 94.10910784405829\n",
      "Epochs:  49 acc: 94.30891101669808\n",
      "Epochs:  50 acc: 94.50315840727406\n",
      "Epochs:  51 acc: 94.69195168065508\n",
      "Epochs:  52 acc: 94.87538400152312\n",
      "Epochs:  53 acc: 95.05354200912296\n",
      "Epochs:  54 acc: 95.22650753088497\n",
      "Epochs:  55 acc: 95.39435906112566\n",
      "Epochs:  56 acc: 95.55717302792146\n",
      "Epochs:  57 acc: 95.71502486832487\n",
      "Epochs:  58 acc: 95.86798992955168\n",
      "Epochs:  59 acc: 96.01614421169545\n",
      "Epochs:  60 acc: 96.15956496591373\n",
      "Epochs:  61 acc: 96.29833116083525\n",
      "Epochs:  62 acc: 96.43252382908025\n",
      "Epochs:  63 acc: 96.56222630519031\n",
      "Epochs:  64 acc: 96.68752436584546\n",
      "Epochs:  65 acc: 96.8085062829391\n",
      "Epochs:  66 acc: 96.92526279982185\n",
      "Epochs:  67 acc: 97.03788704076878\n",
      "Epochs:  68 acc: 97.14647436343608\n",
      "Epochs:  69 acc: 97.25112216372936\n",
      "Epochs:  70 acc: 97.35192964209394\n",
      "Epochs:  71 acc: 97.44899753975413\n",
      "Epochs:  72 acc: 97.5424278528758\n",
      "Epochs:  73 acc: 97.63232353201231\n",
      "Epochs:  74 acc: 97.71878817353156\n",
      "Epochs:  75 acc: 97.80192570902312\n",
      "Epochs:  76 acc: 97.88184009796711\n",
      "Epochs:  77 acc: 97.95863502822343\n",
      "Epochs:  78 acc: 98.03241362818785\n",
      "Epochs:  79 acc: 98.10327819377108\n",
      "Epochs:  80 acc: 98.17132993270184\n",
      "Epochs:  81 acc: 98.2366687280423\n",
      "Epochs:  82 acc: 98.29939292224185\n",
      "Epochs:  83 acc: 98.35959912254808\n",
      "Epochs:  84 acc: 98.41738202814409\n",
      "Epochs:  85 acc: 98.47283427899038\n",
      "Epochs:  86 acc: 98.52604632601584\n",
      "Epochs:  87 acc: 98.57710632202613\n",
      "Epochs:  88 acc: 98.62610003247224\n",
      "Epochs:  89 acc: 98.67311076504801\n",
      "Epochs:  90 acc: 98.71821931695342\n",
      "Epochs:  91 acc: 98.76150393857066\n",
      "Epochs:  92 acc: 98.80304031224419\n",
      "Epochs:  93 acc: 98.84290154483068\n",
      "Epochs:  94 acc: 98.88115817268515\n",
      "Epochs:  95 acc: 98.91787817777178\n",
      "Epochs:  96 acc: 98.95312701362629\n",
      "Epochs:  97 acc: 98.98696763994965\n",
      "Epochs:  98 acc: 99.01946056467598\n",
      "Epochs:  99 acc: 99.0506638924264\n",
      "Epochs:  100 acc: 99.08063337833684\n"
     ]
    }
   ],
   "source": [
    "acc,losses,w1,w2=train(x,y,w1,w2,0.1,100)\n",
    "# alpha=learing rate , epoch is iteration"
   ]
  },
  {
   "cell_type": "code",
   "execution_count": 118,
   "metadata": {},
   "outputs": [
    {
     "data": {
      "image/png": "[encoded data removed]",
      "text/plain": [
       "<Figure size 640x480 with 1 Axes>"
      ]
     },
     "metadata": {},
     "output_type": "display_data"
    }
   ],
   "source": [
    "import matplotlib.pyplot as plt1\n",
    "\n",
    "# plotting accuracy\n",
    "plt1.plot(acc)\n",
    "plt.ylabel(\"Accuracy\")\n",
    "plt.xlabel(\"Epochs:\")\n",
    "plt1.show()"
   ]
  },
  {
   "cell_type": "code",
   "execution_count": 119,
   "metadata": {},
   "outputs": [
    {
     "data": {
      "image/png": "[encoded data removed]",
      "text/plain": [
       "<Figure size 640x480 with 1 Axes>"
      ]
     },
     "metadata": {},
     "output_type": "display_data"
    }
   ],
   "source": [
    "# plot loss\n",
    "import matplotlib.pyplot as plt1\n",
    "\n",
    "# plotting accuracy\n",
    "plt1.plot(losses)\n",
    "plt.ylabel(\"Loss\")\n",
    "plt.xlabel(\"Epochs:\")\n",
    "plt1.show()"
   ]
  },
  {
   "cell_type": "code",
   "execution_count": 120,
   "metadata": {},
   "outputs": [
    {
     "name": "stdout",
     "output_type": "stream",
     "text": [
      "[[-0.04872923  0.00330688 -0.22595742  0.15426245  0.03763696  0.05433337\n",
      "   0.09010071 -0.01902552 -0.07726143  0.04653188]\n",
      " [-0.25706248  0.01069713 -0.14940887  0.37187201 -0.07801771  0.09784153\n",
      "   0.19096736 -0.47427216  0.06713556 -0.35846387]\n",
      " [-0.39839502 -0.01733768 -0.10369097 -0.17393218  0.14727028  0.29529121\n",
      "   0.12212216  0.11104012 -0.19421385  0.30367839]\n",
      " [-0.09124038 -0.37646449  0.32135883 -0.16082142  0.09062816  0.12305865\n",
      "  -0.06191326  0.26448546  0.3370703   0.02517477]\n",
      " [-0.08118988  0.11610866 -0.34253451  0.17490588  0.23456218  0.20507908\n",
      "  -0.12899085 -0.22310779  0.01989634 -0.33625978]\n",
      " [ 0.00490297  0.27999563  0.29892282  0.04613048 -0.03036044 -0.11527072\n",
      "   0.22103049  0.03038066  0.15309411  0.33891888]\n",
      " [ 0.52294494  0.3195461  -0.19343587 -0.02592363  0.35710761  0.10982759\n",
      "  -0.26488588  0.2277418  -0.24235083 -0.21687274]\n",
      " [ 0.28489993  0.26734692  0.0426152  -0.21970788  0.51183217 -0.1537558\n",
      "  -0.03917919 -0.20036809  0.02941322  0.12174888]\n",
      " [-0.01001736  0.21447457 -0.23421815 -0.27986566 -0.12451157 -0.0027068\n",
      "   0.14858584  0.07737447  0.04358464  0.14486157]\n",
      " [-0.06003366  0.26165503 -0.15157995  0.2830447   0.2635845   0.16139268\n",
      "   0.08378695  0.07879304  0.09525832 -0.0347181 ]\n",
      " [ 0.6517513  -0.43965532  0.33925964  0.15873916 -0.30732561 -0.69376514\n",
      "  -0.43409849  0.08515385 -0.19796987  0.09654367]\n",
      " [-0.16565319  0.29452131 -0.39518596  0.29829952  0.20468725  0.0932761\n",
      "   0.04804196 -0.37066204 -0.02232788  0.16349769]\n",
      " [ 0.56780714 -0.6603342   0.14476088  0.0934356   0.10108261 -0.62133492\n",
      "  -0.14877513 -0.02053801 -0.28507649 -0.10045865]\n",
      " [-0.50409501  0.11073296 -0.15854756  0.03914975  0.25420493  0.27669972\n",
      "   0.29734325  0.19317339  0.39672212 -0.01525761]\n",
      " [ 1.09328298 -0.42098673  0.20455259  0.22770376 -0.50727212 -0.93107527\n",
      "  -0.14305061 -0.07080952 -0.25882036  0.06653651]\n",
      " [ 1.09990068 -0.53885764  0.76111813  0.23583938 -0.35215082 -0.81333312\n",
      "  -0.09507121 -0.16829481 -0.12534732 -0.11581288]\n",
      " [ 0.80609288 -0.31208181  0.58217125 -0.34948879 -0.29772235 -0.76902589\n",
      "  -0.06695998 -0.04215287 -0.08014317 -0.04529845]\n",
      " [ 0.07714345 -0.05174777  0.10560044 -0.52155015  0.33596992 -0.29415723\n",
      "  -0.40748028  0.47655235  0.09161777 -0.01501232]\n",
      " [-0.28183173  0.18635839  0.17087026 -0.37811008  0.24436374 -0.26341484\n",
      "  -0.49803912  0.26391358 -0.09510067  0.49854953]\n",
      " [ 0.11064455  0.13061426 -0.06609115  0.00492536  0.32200075  0.15264523\n",
      "   0.50745888 -0.23113214  0.20801045 -0.35426172]\n",
      " [-0.09507832 -0.02917966  0.26199897 -0.26870146 -0.28461479  0.24165441\n",
      "   0.34853461 -0.22099954  0.14067076 -0.18951334]\n",
      " [ 0.33408519 -0.28283761 -0.16932342 -0.05025684  0.11095817 -0.08163282\n",
      "   0.16170501 -0.06469021 -0.08666862 -0.10948362]\n",
      " [ 0.49451014  0.0327751   0.39594907  0.60738881 -0.90073241 -0.58758788\n",
      "   0.07228427 -0.43353103 -0.05560144 -0.25768465]\n",
      " [-0.22910225 -0.10053225  0.38376038 -0.65475761  0.56563906 -0.3426359\n",
      "  -0.13798051  0.55742413 -0.36441084  0.28764404]\n",
      " [ 0.38439766 -0.24485206 -0.10027726 -0.50662298  0.5021601  -0.43417831\n",
      "  -0.22800613  0.73389857 -0.36505647  0.3868313 ]\n",
      " [-0.39760675  0.02259672 -0.18781285  0.38947754 -0.39284321  0.10716992\n",
      "   0.2352384  -0.45272247  0.05269576 -0.07610168]\n",
      " [-0.17019437  0.11391865 -0.39732018  0.34483488 -0.27872913  0.48461994\n",
      "   0.32076234 -0.53116403 -0.17658064 -0.1113937 ]\n",
      " [-0.34962661 -0.01312582 -0.26419478  0.53513457  0.13062773  0.20738955\n",
      "   0.41360704 -0.30195909  0.02305083 -0.88141649]\n",
      " [-0.35522222  0.48504392 -0.13722393  0.65027338 -0.50523756  0.35404521\n",
      "   0.50694822 -0.05692175 -0.01761293 -0.31786821]\n",
      " [ 0.13360015 -0.43139789  0.16628155 -0.52846169  0.69558048 -0.23027082\n",
      "  -0.35698197  0.09729883 -0.07641608  0.32062887]] \n",
      " [[ 0.52231689  1.34012377 -2.06525828]\n",
      " [-0.14659142 -0.48779699  1.07408184]\n",
      " [ 0.40016642  0.04385271 -1.4230175 ]\n",
      " [-2.24752191  1.08758828 -0.1361389 ]\n",
      " [ 0.53587985 -1.92214947 -0.24551801]\n",
      " [-1.13185771 -1.11812678  2.21962735]\n",
      " [-1.34963546  0.14523759  0.59144357]\n",
      " [ 1.23815341 -1.2593289  -0.46931644]\n",
      " [-0.91657657 -0.68179513 -0.19250182]\n",
      " [ 1.00599295 -1.00868621 -0.17120277]]\n"
     ]
    }
   ],
   "source": [
    "print(w1,\"\\n\",w2)\n"
   ]
  },
  {
   "cell_type": "code",
   "execution_count": 121,
   "metadata": {},
   "outputs": [
    {
     "name": "stdout",
     "output_type": "stream",
     "text": [
      "Image is of letter A\n"
     ]
    },
    {
     "data": {
      "image/png": "[encoded data removed]",
      "text/plain": [
       "<Figure size 640x480 with 1 Axes>"
      ]
     },
     "metadata": {},
     "output_type": "display_data"
    }
   ],
   "source": [
    "predict(x[0],w1,w2)"
   ]
  }
 ],
 "metadata": {
  "kernelspec": {
   "display_name": "Python 3",
   "language": "python",
   "name": "python3"
  },
  "language_info": {
   "codemirror_mode": {
    "name": "ipython",
    "version": 3
   },
   "file_extension": ".py",
   "mimetype": "text/x-python",
   "name": "python",
   "nbconvert_exporter": "python",
   "pygments_lexer": "ipython3",
   "version": "3.12.4"
  }
 },
 "nbformat": 4,
 "nbformat_minor": 2
}
